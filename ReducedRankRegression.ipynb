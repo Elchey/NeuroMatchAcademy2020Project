{
 "cells": [
  {
   "cell_type": "code",
   "execution_count": 1,
   "metadata": {},
   "outputs": [],
   "source": [
    "import numpy as np\n",
    "from scipy import sparse\n",
    "\n",
    "class ReducedRankRegressor(object):\n",
    "    \"\"\"\n",
    "    Reduced Rank Regressor (linear 'bottlenecking' or 'multitask learning')\n",
    "    - X is an n-by-d matrix of features.\n",
    "    - Y is an n-by-D matrix of targets.\n",
    "    - rrank is a rank constraint.\n",
    "    - reg is a regularization parameter (optional).\n",
    "    \"\"\"\n",
    "    def __init__(self, X, Y, rank, reg=None):\n",
    "        if np.size(np.shape(X)) == 1:\n",
    "            X = np.reshape(X, (-1, 1))\n",
    "        if np.size(np.shape(Y)) == 1:\n",
    "            Y = np.reshape(Y, (-1, 1))\n",
    "        if reg is None:\n",
    "            reg = 0\n",
    "        self.rank = rank\n",
    "\n",
    "        CXX = np.dot(X.T, X) + reg * sparse.eye(np.size(X, 1))\n",
    "        CXY = np.dot(X.T, Y)\n",
    "        _U, _S, V = np.linalg.svd(np.dot(CXY.T, np.dot(np.linalg.pinv(CXX), CXY)))\n",
    "        self.W = V[0:rank, :].T\n",
    "        self.A = np.dot(np.linalg.pinv(CXX), np.dot(CXY, self.W)).T\n",
    "\n",
    "    def __str__(self):\n",
    "        return 'Reduced Rank Regressor (rank = {})'.format(self.rank)\n",
    "\n",
    "    def predict(self, X):\n",
    "        \"\"\"Predict Y from X.\"\"\"\n",
    "        if np.size(np.shape(X)) == 1:\n",
    "            X = np.reshape(X, (-1, 1))\n",
    "        return np.dot(X, np.dot(self.A.T, self.W.T))"
   ]
  },
  {
   "cell_type": "code",
   "execution_count": 2,
   "metadata": {},
   "outputs": [],
   "source": [
    "import os\n",
    "import numpy as np\n",
    "from EnsemblePursuit.EnsemblePursuit import EnsemblePursuit\n",
    "import matplotlib.pyplot as plt"
   ]
  },
  {
   "cell_type": "code",
   "execution_count": 3,
   "metadata": {},
   "outputs": [],
   "source": [
    "fname='/media/maria/DATA1/Documents/NeuroMatchAcademy2020_dat/kay_images.npz'\n",
    "with np.load(fname) as dobj:\n",
    "    dat = dict(**dobj)"
   ]
  },
  {
   "cell_type": "code",
   "execution_count": 4,
   "metadata": {},
   "outputs": [],
   "source": [
    "def get_rois(dat,ind):\n",
    "    spec_rois=np.where(dat['roi']==ind)\n",
    "    #print(spec_rois)\n",
    "    spec_dat=dat['responses'][:,spec_rois].reshape(1750,-1)\n",
    "    return spec_dat, spec_rois\n",
    "\n",
    "def rrregression(dat,inds):\n",
    "    spec_dat0,spec_roi0=get_rois(dat,inds[0])\n",
    "    spec_dat1,spec_roi1=get_rois(dat,inds[1])\n",
    "    rrr=ReducedRankRegressor(spec_dat0,spec_dat1,rank=30)\n",
    "    test0=dat['responses_test'][:,spec_roi0].reshape(120,-1)\n",
    "    test1=dat['responses_test'][:,spec_roi1].reshape(120,-1)\n",
    "    pred=rrr.predict(test0)\n",
    "    corr=np.corrcoef(test1.flatten(),pred.flatten())[0,1]\n",
    "    return corr"
   ]
  },
  {
   "cell_type": "code",
   "execution_count": 5,
   "metadata": {
    "scrolled": false
   },
   "outputs": [
    {
     "name": "stdout",
     "output_type": "stream",
     "text": [
      "0\n",
      "0.46836761281619904\n",
      "0.21446256961060192\n",
      "0.3202931658369222\n",
      "0.29301466938110643\n",
      "0.263071894451033\n",
      "0.313437061578201\n",
      "0.4632887957426442\n",
      "0\n",
      "0.24005721049788634\n",
      "0.32673856258022227\n",
      "0.3181393317955485\n",
      "0.3174660168680035\n",
      "0.3198082933857296\n",
      "0.3445442283688504\n",
      "0.3879358658726048\n",
      "0\n",
      "0.33327360424178337\n",
      "0.33204928065514305\n",
      "0.30909914558694984\n",
      "0.3347561959902074\n",
      "0.1624027766748163\n",
      "0.23985563412180105\n",
      "0.10432645287690283\n",
      "0\n",
      "0.3918505822769027\n",
      "0.19557888940832943\n",
      "0.31301248357141614\n",
      "0.13311318497083022\n",
      "0.17840942692601408\n",
      "0.1054477700532839\n",
      "0.4110824154934709\n",
      "0\n",
      "0.21135613511020518\n",
      "0.31181689776661464\n",
      "0.25426192628243827\n",
      "0.30302713670330106\n",
      "0.1616043092897154\n",
      "0.2987005483069137\n",
      "0.30424377000118646\n",
      "0\n",
      "0.35810384313625465\n",
      "0.24296447002634422\n",
      "0.2967488820848376\n",
      "0.09205770192716611\n",
      "0.38368494875377457\n",
      "0.3934574908744777\n",
      "0.32794180899599534\n",
      "0\n"
     ]
    },
    {
     "ename": "NameError",
     "evalue": "name 'sns' is not defined",
     "output_type": "error",
     "traceback": [
      "\u001b[0;31m---------------------------------------------------------------------------\u001b[0m",
      "\u001b[0;31mNameError\u001b[0m                                 Traceback (most recent call last)",
      "\u001b[0;32m<ipython-input-5-a98babe4e425>\u001b[0m in \u001b[0;36m<module>\u001b[0;34m\u001b[0m\n\u001b[1;32m     12\u001b[0m \u001b[0;34m\u001b[0m\u001b[0m\n\u001b[1;32m     13\u001b[0m \u001b[0mcorr_lst\u001b[0m\u001b[0;34m=\u001b[0m\u001b[0mnp\u001b[0m\u001b[0;34m.\u001b[0m\u001b[0marray\u001b[0m\u001b[0;34m(\u001b[0m\u001b[0mcorr_lst\u001b[0m\u001b[0;34m)\u001b[0m\u001b[0;34m\u001b[0m\u001b[0;34m\u001b[0m\u001b[0m\n\u001b[0;32m---> 14\u001b[0;31m \u001b[0msns\u001b[0m\u001b[0;34m.\u001b[0m\u001b[0mheatmap\u001b[0m\u001b[0;34m(\u001b[0m\u001b[0mcorr_lst\u001b[0m\u001b[0;34m)\u001b[0m\u001b[0;34m\u001b[0m\u001b[0;34m\u001b[0m\u001b[0m\n\u001b[0m",
      "\u001b[0;31mNameError\u001b[0m: name 'sns' is not defined"
     ]
    }
   ],
   "source": [
    "corr_lst=[]\n",
    "for j in range(1,8):\n",
    "    corr_row=[]\n",
    "    for i in range(1,8):\n",
    "        if i!=j:\n",
    "            cor=rrregression(dat,[i,j])\n",
    "        if i==j:\n",
    "            cor=0\n",
    "        print(cor)    \n",
    "        corr_row.append(cor)\n",
    "    corr_lst.append(corr_row)\n",
    "    \n",
    "corr_lst=np.array(corr_lst)\n",
    "sns.heatmap(corr_lst)"
   ]
  },
  {
   "cell_type": "code",
   "execution_count": 6,
   "metadata": {},
   "outputs": [
    {
     "ename": "NameError",
     "evalue": "name 'sns' is not defined",
     "output_type": "error",
     "traceback": [
      "\u001b[0;31m---------------------------------------------------------------------------\u001b[0m",
      "\u001b[0;31mNameError\u001b[0m                                 Traceback (most recent call last)",
      "\u001b[0;32m<ipython-input-6-679b3dac747e>\u001b[0m in \u001b[0;36m<module>\u001b[0;34m\u001b[0m\n\u001b[0;32m----> 1\u001b[0;31m \u001b[0msns\u001b[0m\u001b[0;34m.\u001b[0m\u001b[0mheatmap\u001b[0m\u001b[0;34m(\u001b[0m\u001b[0mcorr_lst\u001b[0m\u001b[0;34m)\u001b[0m\u001b[0;34m\u001b[0m\u001b[0;34m\u001b[0m\u001b[0m\n\u001b[0m",
      "\u001b[0;31mNameError\u001b[0m: name 'sns' is not defined"
     ]
    }
   ],
   "source": [
    "\n",
    "sns.heatmap(corr_lst)"
   ]
  },
  {
   "cell_type": "code",
   "execution_count": 5,
   "metadata": {},
   "outputs": [
    {
     "data": {
      "text/plain": [
       "dict_keys(['stimuli', 'stimuli_test', 'responses', 'responses_test', 'roi', 'roi_names'])"
      ]
     },
     "execution_count": 5,
     "metadata": {},
     "output_type": "execute_result"
    }
   ],
   "source": [
    "dat.keys()"
   ]
  },
  {
   "cell_type": "code",
   "execution_count": 6,
   "metadata": {
    "scrolled": true
   },
   "outputs": [
    {
     "name": "stdout",
     "output_type": "stream",
     "text": [
      "['Other' 'V1' 'V2' 'V3' 'V3A' 'V3B' 'V4' 'LatOcc']\n"
     ]
    }
   ],
   "source": [
    "print(dat['roi_names'])"
   ]
  },
  {
   "cell_type": "code",
   "execution_count": 7,
   "metadata": {},
   "outputs": [
    {
     "name": "stdout",
     "output_type": "stream",
     "text": [
      "(1750, 8428)\n"
     ]
    }
   ],
   "source": [
    "print(dat['responses'].shape)"
   ]
  },
  {
   "cell_type": "code",
   "execution_count": 26,
   "metadata": {
    "scrolled": true
   },
   "outputs": [
    {
     "name": "stdout",
     "output_type": "stream",
     "text": [
      "(array([ 187,  199,  213, ..., 8281, 8331, 8355]),)\n"
     ]
    }
   ],
   "source": [
    "v1_rois=np.where(dat['roi']==1)\n",
    "print(v1_rois)\n",
    "v1_dat=dat['responses'][:,v1_rois].reshape(1750,-1)"
   ]
  },
  {
   "cell_type": "code",
   "execution_count": 33,
   "metadata": {},
   "outputs": [
    {
     "name": "stdout",
     "output_type": "stream",
     "text": [
      "(array([  26,   27,   29, ..., 8381, 8399, 8400]),)\n"
     ]
    }
   ],
   "source": [
    "v2_rois=np.where(dat['roi']==2)\n",
    "print(v2_rois)\n",
    "v2_dat=dat['responses'][:,v2_rois].reshape(1750,-1)"
   ]
  },
  {
   "cell_type": "code",
   "execution_count": 86,
   "metadata": {},
   "outputs": [],
   "source": [
    "rrr=ReducedRankRegressor(v1_dat,v2_dat,rank=40)"
   ]
  },
  {
   "cell_type": "code",
   "execution_count": 87,
   "metadata": {},
   "outputs": [],
   "source": [
    "v1_test=dat['responses_test'][:,v1_rois].reshape(120,-1)\n",
    "v2_test=dat['responses_test'][:,v2_rois].reshape(120,-1)"
   ]
  },
  {
   "cell_type": "code",
   "execution_count": null,
   "metadata": {},
   "outputs": [],
   "source": [
    "pred=rrr.predict(v1_test)"
   ]
  },
  {
   "cell_type": "code",
   "execution_count": 54,
   "metadata": {},
   "outputs": [
    {
     "name": "stdout",
     "output_type": "stream",
     "text": [
      "(120, 2083)\n",
      "(120, 2083)\n"
     ]
    }
   ],
   "source": [
    "print(pred.shape)\n",
    "print(v2_test.shape)"
   ]
  },
  {
   "cell_type": "code",
   "execution_count": 88,
   "metadata": {
    "scrolled": true
   },
   "outputs": [
    {
     "name": "stdout",
     "output_type": "stream",
     "text": [
      "[[1.         0.45449689]\n",
      " [0.45449689 1.        ]]\n"
     ]
    }
   ],
   "source": [
    "print(np.corrcoef(v2_test.flatten(),pred.flatten()))"
   ]
  },
  {
   "cell_type": "code",
   "execution_count": 34,
   "metadata": {
    "scrolled": true
   },
   "outputs": [
    {
     "name": "stdout",
     "output_type": "stream",
     "text": [
      "obtained 100 PCs in 5.6839 seconds\n",
      "initialized 100 clusters with k-means in 2.0784 seconds\n",
      "ensemble 0, time 3.22, nr neurons 5040, EV 0.0630\n",
      "ensemble 25, time 26.12, nr neurons 634, EV 0.1846\n",
      "ensemble 50, time 41.30, nr neurons 369, EV 0.2195\n",
      "ensemble 75, time 52.70, nr neurons 201, EV 0.2394\n",
      "ensemble 99, time 63.00, nr neurons 142, EV 0.2544\n",
      "average sparsity is 0.0678\n"
     ]
    },
    {
     "data": {
      "text/plain": [
       "<EnsemblePursuit.EnsemblePursuit.EnsemblePursuit at 0x7f5089a11a90>"
      ]
     },
     "execution_count": 34,
     "metadata": {},
     "output_type": "execute_result"
    }
   ],
   "source": [
    "ep=EnsemblePursuit(lam=0.01,n_components=100,n_kmeans=100)\n",
    "ep.fit(dat['responses'])"
   ]
  },
  {
   "cell_type": "code",
   "execution_count": 37,
   "metadata": {},
   "outputs": [],
   "source": [
    "U=ep.weights\n",
    "ensemble=np.nonzero(U[:,0])[0]"
   ]
  },
  {
   "cell_type": "code",
   "execution_count": null,
   "metadata": {},
   "outputs": [],
   "source": [
    "corr[corr>0.5]"
   ]
  },
  {
   "cell_type": "code",
   "execution_count": 44,
   "metadata": {},
   "outputs": [],
   "source": [
    "n_ens=set(ensemble)\n",
    "v1_overlap=list(n_ens.intersection(set(list(v1_rois[0].flatten()))))\n",
    "v2_overlap=list(n_ens.intersection(set(list(v2_rois[0].flatten()))))"
   ]
  },
  {
   "cell_type": "code",
   "execution_count": 48,
   "metadata": {
    "scrolled": true
   },
   "outputs": [
    {
     "name": "stdout",
     "output_type": "stream",
     "text": [
      "920\n"
     ]
    }
   ],
   "source": [
    "print(len(v1_overlap))"
   ]
  },
  {
   "cell_type": "code",
   "execution_count": 47,
   "metadata": {},
   "outputs": [
    {
     "name": "stdout",
     "output_type": "stream",
     "text": [
      "(2083,)\n"
     ]
    }
   ],
   "source": [
    "print(v2_rois[0].shape)"
   ]
  },
  {
   "cell_type": "code",
   "execution_count": 49,
   "metadata": {},
   "outputs": [
    {
     "name": "stdout",
     "output_type": "stream",
     "text": [
      "(240, 240)\n"
     ]
    }
   ],
   "source": [
    "print(corr.shape)"
   ]
  }
 ],
 "metadata": {
  "kernelspec": {
   "display_name": "Python 3",
   "language": "python",
   "name": "python3"
  },
  "language_info": {
   "codemirror_mode": {
    "name": "ipython",
    "version": 3
   },
   "file_extension": ".py",
   "mimetype": "text/x-python",
   "name": "python",
   "nbconvert_exporter": "python",
   "pygments_lexer": "ipython3",
   "version": "3.7.7"
  }
 },
 "nbformat": 4,
 "nbformat_minor": 4
}
