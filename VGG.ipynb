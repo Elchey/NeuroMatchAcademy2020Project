{
 "cells": [
  {
   "cell_type": "code",
   "execution_count": 1,
   "metadata": {},
   "outputs": [
    {
     "name": "stderr",
     "output_type": "stream",
     "text": [
      "Using TensorFlow backend.\n"
     ]
    },
    {
     "name": "stdout",
     "output_type": "stream",
     "text": [
      "Downloading data from https://github.com/fchollet/deep-learning-models/releases/download/v0.1/vgg16_weights_tf_dim_ordering_tf_kernels_notop.h5\n",
      "58892288/58889256 [==============================] - 10s 0us/step\n"
     ]
    }
   ],
   "source": [
    "import os\n",
    "import numpy as np\n",
    "from EnsemblePursuit.EnsemblePursuit import EnsemblePursuit\n",
    "import matplotlib.pyplot as plt\n",
    "\n",
    "from keras.applications.vgg16 import VGG16\n",
    "# load model without classifier layers\n",
    "model = VGG16(include_top=False, input_shape=(300, 300, 3))"
   ]
  },
  {
   "cell_type": "code",
   "execution_count": 21,
   "metadata": {},
   "outputs": [
    {
     "name": "stdout",
     "output_type": "stream",
     "text": [
      "(224, 224)\n",
      "(1, 4096)\n"
     ]
    }
   ],
   "source": [
    "# example of using the vgg16 model as a feature extraction model\n",
    "from keras.preprocessing.image import load_img\n",
    "from keras.preprocessing.image import img_to_array\n",
    "from keras.applications.vgg16 import preprocess_input\n",
    "from keras.applications.vgg16 import decode_predictions\n",
    "from keras.applications.vgg16 import VGG16\n",
    "from keras.models import Model\n",
    "from pickle import dump\n",
    "from tensorflow.keras import Input\n",
    "\n",
    "fname='/media/maria/DATA1/Documents/NeuroMatchAcademy2020_dat/kay_images.npz'\n",
    "with np.load(fname) as dobj:\n",
    "    dat = dict(**dobj)\n",
    "# load an image from file\n",
    "#image = load_img('dog.jpg', target_size=(224, 224))\n",
    "import cv2\n",
    "\n",
    "image=dat['stimuli'][0,:,:]\n",
    "image=cv2.resize(image,(224,224))\n",
    "print(image.shape)\n",
    "# convert the image pixels to a numpy array\n",
    "image = img_to_array(image)\n",
    "#img_input = Input(shape=(img_size_target,img_size_target,1))\n",
    "image=np.repeat(image,3,axis=2)\n",
    "# reshape data for the model\n",
    "image = image.reshape((1, image.shape[0], image.shape[1],image.shape[2]))\n",
    "# prepare the image for the VGG model\n",
    "image = preprocess_input(image)\n",
    "# load model\n",
    "model = VGG16()\n",
    "# remove the output layer\n",
    "model.layers.pop()\n",
    "input_tensor=Input(shape=(128, 128, 3))\n",
    "model = Model(inputs=model.inputs, outputs=model.layers[-1].output)\n",
    "# get extracted features\n",
    "features = model.predict(image)\n",
    "print(features.shape)\n",
    "# save to file\n",
    "dump(features, open('dog.pkl', 'wb'))"
   ]
  }
 ],
 "metadata": {
  "kernelspec": {
   "display_name": "Python 3",
   "language": "python",
   "name": "python3"
  },
  "language_info": {
   "codemirror_mode": {
    "name": "ipython",
    "version": 3
   },
   "file_extension": ".py",
   "mimetype": "text/x-python",
   "name": "python",
   "nbconvert_exporter": "python",
   "pygments_lexer": "ipython3",
   "version": "3.7.7"
  }
 },
 "nbformat": 4,
 "nbformat_minor": 4
}
