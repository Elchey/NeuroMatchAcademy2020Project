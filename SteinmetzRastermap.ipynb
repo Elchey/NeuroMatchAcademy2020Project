{
 "cells": [
  {
   "cell_type": "code",
   "execution_count": 1,
   "metadata": {},
   "outputs": [
    {
     "name": "stdout",
     "output_type": "stream",
     "text": [
      "dict_keys(['spks_20ms', 'vis_times', 'resp_times', 'contrastRight', 'contrastLeft', 'response_choice', 'feedbackType', 'brain_region', 'info'])\n"
     ]
    }
   ],
   "source": [
    "#@title Data retrieval and loading\n",
    "import numpy as np\n",
    "import os\n",
    "data_fname = 'steinmetz_decisions.npy'\n",
    "if data_fname not in os.listdir():\n",
    "  !wget -qO $data_fname https://osf.io/c5bqn/download\n",
    "dat = np.load('steinmetz_decisions.npy', allow_pickle=True).item()\n",
    "print(dat.keys())"
   ]
  },
  {
   "cell_type": "code",
   "execution_count": 10,
   "metadata": {},
   "outputs": [],
   "source": [
    "import rastermap\n",
    "             \n",
    "model = rastermap.Rastermap(n_components=1, n_X=30, nPC=200, init='pca')"
   ]
  },
  {
   "cell_type": "code",
   "execution_count": 19,
   "metadata": {},
   "outputs": [],
   "source": [
    "dat_flat=dat['spks_20ms'][:,0,:]"
   ]
  },
  {
   "cell_type": "code",
   "execution_count": 20,
   "metadata": {},
   "outputs": [
    {
     "name": "stdout",
     "output_type": "stream",
     "text": [
      "nmin 160\n",
      "0.0016183853149414062\n",
      "0.07640552520751953\n",
      "0.11370706558227539\n",
      "0.11594176292419434\n",
      "(28, 30)\n",
      "(60,)\n",
      "1.0\n",
      "time; iteration;  explained PC variance\n",
      "0.01s     0        0.2009      2\n",
      "0.07s    10        0.2679      4\n",
      "0.14s    20        0.2898      8\n",
      "0.18s    30        0.3204      18\n",
      "0.22s    40        0.3539      28\n",
      "0.26s    50        0.3547      28\n",
      "0.30s   final      0.3547\n",
      "0.30s upsampled    0.3547\n"
     ]
    },
    {
     "data": {
      "text/plain": [
       "<rastermap.mapping.Rastermap at 0x7fb59c2f5990>"
      ]
     },
     "execution_count": 20,
     "metadata": {},
     "output_type": "execute_result"
    }
   ],
   "source": [
    "model.fit(dat_flat)"
   ]
  },
  {
   "cell_type": "code",
   "execution_count": 23,
   "metadata": {},
   "outputs": [
    {
     "data": {
      "image/png": "[encoded data removed]",
      "text/plain": [
       "<Figure size 432x288 with 1 Axes>"
      ]
     },
     "metadata": {
      "needs_background": "light"
     },
     "output_type": "display_data"
    }
   ],
   "source": [
    "import matplotlib.pyplot as plt\n",
    "plt.figure(figsize=(3,4))\n",
    "plt.imshow(dat_flat[model.isort, :])\n"
   ]
  }
 ],
 "metadata": {
  "kernelspec": {
   "display_name": "Python 3",
   "language": "python",
   "name": "python3"
  },
  "language_info": {
   "codemirror_mode": {
    "name": "ipython",
    "version": 3
   },
   "file_extension": ".py",
   "mimetype": "text/x-python",
   "name": "python",
   "nbconvert_exporter": "python",
   "pygments_lexer": "ipython3",
   "version": "3.7.7"
  }
 },
 "nbformat": 4,
 "nbformat_minor": 4
}
